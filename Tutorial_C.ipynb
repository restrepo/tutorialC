{
 "cells": [
  {
   "cell_type": "markdown",
   "metadata": {},
   "source": [
    "# Tutorial C"
   ]
  },
  {
   "cell_type": "markdown",
   "metadata": {},
   "source": [
    "IMPORTANTE:  Active kernel bash:"
   ]
  },
  {
   "cell_type": "code",
   "execution_count": 2,
   "metadata": {
    "collapsed": false
   },
   "outputs": [
    {
     "name": "stdout",
     "output_type": "stream",
     "text": [
      "Installing IPython kernel spec\n"
     ]
    }
   ],
   "source": [
    "%%bash\n",
    "python -m bash_kernel.install"
   ]
  },
  {
   "cell_type": "markdown",
   "metadata": {},
   "source": [
    "Y recarge este notebook y use menú de este Notebook para cambiar el kernel a bash:\n",
    "\n",
    "  `Kernel -> Change kernel -> Bash`"
   ]
  },
  {
   "cell_type": "markdown",
   "metadata": {},
   "source": [
    "### Documentación"
   ]
  },
  {
   "cell_type": "markdown",
   "metadata": {
    "collapsed": true
   },
   "source": [
    "Una vez creados los archivos descritos en http://c3.itm.edu.co/wiki/tiki-index.php?page=Herramientas+GnuLinux continuamos con los pasos descritos allí"
   ]
  },
  {
   "cell_type": "markdown",
   "metadata": {},
   "source": [
    "## Creando una librería estática\n",
    "Una librería estática se crea con el archiver (ar) a partir de un archivo tipo objeto que creamos desde nuestro código en C. Los pasos a seguir son los siguientes :\n",
    "\n",
    "Creamos un objeto a partir de nuestro código en C:"
   ]
  },
  {
   "cell_type": "markdown",
   "metadata": {
    "collapsed": false
   },
   "source": [
    "We have the folloing structure:\n",
    "inc/libreriaPi.h\n",
    "src/programaPi.c\n",
    "src/libreriaPi.c"
   ]
  },
  {
   "cell_type": "code",
   "execution_count": 2,
   "metadata": {
    "collapsed": false
   },
   "outputs": [
    {
     "name": "stdout",
     "output_type": "stream",
     "text": []
    }
   ],
   "source": [
    "cd src\n",
    "gcc -c libreriaPi.c -o libreriaPi.o"
   ]
  },
  {
   "cell_type": "code",
   "execution_count": 3,
   "metadata": {
    "collapsed": false
   },
   "outputs": [
    {
     "name": "stdout",
     "output_type": "stream",
     "text": [
      "libreriaPi.c  libreriaPi.o  programaPi.c\r\n"
     ]
    }
   ],
   "source": [
    "ls"
   ]
  },
  {
   "cell_type": "markdown",
   "metadata": {},
   "source": [
    "Retornemos ahora al directorio principal"
   ]
  },
  {
   "cell_type": "code",
   "execution_count": 4,
   "metadata": {
    "collapsed": false
   },
   "outputs": [
    {
     "name": "stdout",
     "output_type": "stream",
     "text": []
    }
   ],
   "source": [
    "cd .."
   ]
  },
  {
   "cell_type": "code",
   "execution_count": 11,
   "metadata": {
    "collapsed": false
   },
   "outputs": [
    {
     "name": "stdout",
     "output_type": "stream",
     "text": []
    }
   ],
   "source": [
    "gcc -Iinc src/libreriaPi.o src/programaPi.c"
   ]
  },
  {
   "cell_type": "code",
   "execution_count": 12,
   "metadata": {
    "collapsed": false
   },
   "outputs": [
    {
     "name": "stdout",
     "output_type": "stream",
     "text": [
      "a.out  inc  libreriaPi.h~  src\tTutorial_C.ipynb\r\n"
     ]
    }
   ],
   "source": [
    "ls"
   ]
  },
  {
   "cell_type": "markdown",
   "metadata": {},
   "source": [
    "Existen dos tipos de librerias\n",
    "* Librería estática: una colección de los archivos .o\n",
    "* Librería dinámica: genera referencias a las librerías necesarías. Permite enviar ejecutables reducidos al procesador"
   ]
  },
  {
   "cell_type": "markdown",
   "metadata": {},
   "source": [
    "Una vez tenemos nuestro fichero objeto llamamos al archiver(ar) para que nos genere la librería. Con la convención:\n",
    "\n",
    "libNOMBRE.TIPO[VERSION]\n",
    "\n",
    "donde tipo es .a o .so y VERSION es opcional y se invoca como -lNOMBRE\n",
    "\n"
   ]
  },
  {
   "cell_type": "code",
   "execution_count": 16,
   "metadata": {
    "collapsed": false
   },
   "outputs": [
    {
     "name": "stdout",
     "output_type": "stream",
     "text": []
    }
   ],
   "source": [
    "mkdir lib\n",
    "ar rcs lib/libpi.a src/libreriaPi.o"
   ]
  },
  {
   "cell_type": "code",
   "execution_count": 22,
   "metadata": {
    "collapsed": false
   },
   "outputs": [
    {
     "name": "stdout",
     "output_type": "stream",
     "text": []
    }
   ],
   "source": [
    "gcc -Iinc src/programaPi.c -Llib -lpi"
   ]
  },
  {
   "cell_type": "markdown",
   "metadata": {
    "collapsed": true
   },
   "source": [
    "##  Make "
   ]
  },
  {
   "cell_type": "markdown",
   "metadata": {},
   "source": [
    "El comando make busca archivos Make-File\n",
    "\n",
    "* `CFLAGS = -c -Iinc`\n",
    "* `LDFLAGS = -L dir -l file # where file refers to libfile`\n",
    "\n",
    "Entonces"
   ]
  },
  {
   "cell_type": "code",
   "execution_count": 10,
   "metadata": {
    "collapsed": false
   },
   "outputs": [
    {
     "name": "stdout",
     "output_type": "stream",
     "text": [
      "CFLAGS=-c -Iinc\r\n",
      "LDFLAGS=-Llib -lpi\r\n",
      "CC=gcc\r\n",
      "SRC=src/libreriaPi.c\r\n",
      "INC=inc/libreriaPi.h\r\n",
      "MAIN=src/programaPi.c\r\n",
      "\r\n",
      "all:lib/libpi.a lib/libpi.so\r\n",
      "\r\n",
      "lib/libreriaPi.o:$(SRC) $(INC)\r\n",
      "\t$(CC) $(CFLAGS) $(SRC) -o $@\r\n",
      "\r\n",
      "lib/libreriaPis.o:$(SRC) $(INC)\r\n",
      "\t$(CC) $(CFLAGS) -fPIC  $(SRC) -o $@\r\n",
      "\r\n",
      "\r\n",
      "lib/libpi.a:lib/libreriaPi.o\r\n",
      "\t$(AR) rcs $@ $< "
     ]
    }
   ],
   "source": [
    "cat Makefile"
   ]
  },
  {
   "cell_type": "code",
   "execution_count": 12,
   "metadata": {
    "collapsed": false
   },
   "outputs": [
    {
     "name": "stdout",
     "output_type": "stream",
     "text": [
      "gcc -c -Iinc -fPIC  src/libreriaPi.c -o lib/libreriaPis.o\r\n",
      "gcc -shared -Wl,-soname,libpi.so -o lib/libpi.so lib/libreriaPis.o \r\n"
     ]
    }
   ],
   "source": [
    "make"
   ]
  },
  {
   "cell_type": "code",
   "execution_count": null,
   "metadata": {
    "collapsed": true
   },
   "outputs": [],
   "source": []
  }
 ],
 "metadata": {
  "kernelspec": {
   "display_name": "Python 2",
   "language": "python",
   "name": "python2"
  },
  "language_info": {
   "codemirror_mode": {
    "name": "ipython",
    "version": 2
   },
   "file_extension": ".py",
   "mimetype": "text/x-python",
   "name": "python",
   "nbconvert_exporter": "python",
   "pygments_lexer": "ipython2",
   "version": "2.7.9"
  }
 },
 "nbformat": 4,
 "nbformat_minor": 0
}
