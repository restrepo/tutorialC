{
 "cells": [
  {
   "cell_type": "markdown",
   "metadata": {},
   "source": [
    "# Tutorial C"
   ]
  },
  {
   "cell_type": "markdown",
   "metadata": {},
   "source": [
    "IMPORTANTE:  Active kernel bash:"
   ]
  },
  {
   "cell_type": "code",
   "execution_count": 2,
   "metadata": {
    "collapsed": false
   },
   "outputs": [
    {
     "name": "stdout",
     "output_type": "stream",
     "text": [
      "Installing IPython kernel spec\n"
     ]
    }
   ],
   "source": [
    "%%bash\n",
    "python -m bash_kernel.install"
   ]
  },
  {
   "cell_type": "markdown",
   "metadata": {},
   "source": [
    "Y recarge este notebook y use menú de este Notebook para cambiar el kernel a bash:\n",
    "\n",
    "  `Kernel -> Change kernel -> Bash`"
   ]
  },
  {
   "cell_type": "markdown",
   "metadata": {},
   "source": [
    "### Documentación"
   ]
  },
  {
   "cell_type": "markdown",
   "metadata": {
    "collapsed": true
   },
   "source": [
    "Una vez creados los archivos descritos en http://c3.itm.edu.co/wiki/tiki-index.php?page=Herramientas+GnuLinux continuamos con los pasos descritos allí"
   ]
  },
  {
   "cell_type": "markdown",
   "metadata": {},
   "source": [
    "## Creando una librería estática\n",
    "Una librería estática se crea con el archiver (ar) a partir de un archivo tipo objeto que creamos desde nuestro código en C. Los pasos a seguir son los siguientes :\n",
    "\n",
    "Creamos un objeto a partir de nuestro código en C:"
   ]
  },
  {
   "cell_type": "markdown",
   "metadata": {
    "collapsed": false
   },
   "source": [
    "We have the folloing structure:\n",
    "inc/libreriaPi.h\n",
    "src/programaPi.c\n",
    "src/libreriaPi.c"
   ]
  },
  {
   "cell_type": "code",
   "execution_count": 2,
   "metadata": {
    "collapsed": false
   },
   "outputs": [
    {
     "name": "stdout",
     "output_type": "stream",
     "text": []
    }
   ],
   "source": [
    "cd src\n",
    "gcc -c libreriaPi.c -o libreriaPi.o"
   ]
  },
  {
   "cell_type": "code",
   "execution_count": 3,
   "metadata": {
    "collapsed": false
   },
   "outputs": [
    {
     "name": "stdout",
     "output_type": "stream",
     "text": [
      "libreriaPi.c  libreriaPi.o  programaPi.c\r\n"
     ]
    }
   ],
   "source": [
    "ls"
   ]
  },
  {
   "cell_type": "markdown",
   "metadata": {},
   "source": [
    "Retornemos ahora al directorio principal"
   ]
  },
  {
   "cell_type": "code",
   "execution_count": 4,
   "metadata": {
    "collapsed": false
   },
   "outputs": [
    {
     "name": "stdout",
     "output_type": "stream",
     "text": []
    }
   ],
   "source": [
    "cd .."
   ]
  },
  {
   "cell_type": "code",
   "execution_count": 11,
   "metadata": {
    "collapsed": false
   },
   "outputs": [
    {
     "name": "stdout",
     "output_type": "stream",
     "text": []
    }
   ],
   "source": [
    "gcc -Iinc src/libreriaPi.o src/programaPi.c"
   ]
  },
  {
   "cell_type": "code",
   "execution_count": 12,
   "metadata": {
    "collapsed": false
   },
   "outputs": [
    {
     "name": "stdout",
     "output_type": "stream",
     "text": [
      "a.out  inc  libreriaPi.h~  src\tTutorial_C.ipynb\r\n"
     ]
    }
   ],
   "source": [
    "ls"
   ]
  },
  {
   "cell_type": "markdown",
   "metadata": {},
   "source": [
    "Existen dos tipos de librerias\n",
    "* Librería estática: una colección de los archivos .o\n",
    "* Librería dinámica: genera referencias a las librerías necesarías. Permite enviar ejecutables reducidos al procesador"
   ]
  },
  {
   "cell_type": "markdown",
   "metadata": {},
   "source": [
    "Una vez tenemos nuestro fichero objeto llamamos al archiver(ar) para que nos genere la librería. Con la convención:\n",
    "\n",
    "libNOMBRE.TIPO[VERSION]\n",
    "\n",
    "donde tipo es .a o .so y VERSION es opcional y se invoca como -lNOMBRE\n",
    "\n"
   ]
  },
  {
   "cell_type": "code",
   "execution_count": 16,
   "metadata": {
    "collapsed": false
   },
   "outputs": [
    {
     "name": "stdout",
     "output_type": "stream",
     "text": []
    }
   ],
   "source": [
    "mkdir lib\n",
    "ar rcs lib/libpi.a src/libreriaPi.o"
   ]
  },
  {
   "cell_type": "code",
   "execution_count": 22,
   "metadata": {
    "collapsed": false
   },
   "outputs": [
    {
     "name": "stdout",
     "output_type": "stream",
     "text": []
    }
   ],
   "source": [
    "gcc -Iinc src/programaPi.c -Llib -lpi"
   ]
  },
  {
   "cell_type": "code",
   "execution_count": null,
   "metadata": {
    "collapsed": true
   },
   "outputs": [],
   "source": [
    "./a.out 3"
   ]
  },
  {
   "cell_type": "markdown",
   "metadata": {
    "collapsed": true
   },
   "source": [
    "##  Make "
   ]
  },
  {
   "cell_type": "markdown",
   "metadata": {},
   "source": [
    "El comando make busca archivos Make-File\n",
    "\n",
    "* `CFLAGS = -c -Iinc`\n",
    "* `LDFLAGS = -L dir -l file # where file refers to libfile`\n",
    "\n",
    "Entonces.  Descarge el MakeFile desde https://github.com/omazapa/curso-gfif-2016/blob/master/Makefile"
   ]
  },
  {
   "cell_type": "code",
   "execution_count": 10,
   "metadata": {
    "collapsed": false
   },
   "outputs": [
    {
     "name": "stdout",
     "output_type": "stream",
     "text": [
      "CFLAGS=-c -Iinc\r\n",
      "LDFLAGS=-Llib -lpi\r\n",
      "CC=gcc\r\n",
      "SRC=src/libreriaPi.c\r\n",
      "INC=inc/libreriaPi.h\r\n",
      "MAIN=src/programaPi.c\r\n",
      "\r\n",
      "all:lib/libpi.a lib/libpi.so\r\n",
      "\r\n",
      "lib/libreriaPi.o:$(SRC) $(INC)\r\n",
      "\t$(CC) $(CFLAGS) $(SRC) -o $@\r\n",
      "\r\n",
      "lib/libreriaPis.o:$(SRC) $(INC)\r\n",
      "\t$(CC) $(CFLAGS) -fPIC  $(SRC) -o $@\r\n",
      "\r\n",
      "\r\n",
      "lib/libpi.a:lib/libreriaPi.o\r\n",
      "\t$(AR) rcs $@ $< "
     ]
    }
   ],
   "source": [
    "cat Makefile"
   ]
  },
  {
   "cell_type": "code",
   "execution_count": 12,
   "metadata": {
    "collapsed": false
   },
   "outputs": [
    {
     "name": "stdout",
     "output_type": "stream",
     "text": [
      "gcc -c -Iinc -fPIC  src/libreriaPi.c -o lib/libreriaPis.o\r\n",
      "gcc -shared -Wl,-soname,libpi.so -o lib/libpi.so lib/libreriaPis.o \r\n"
     ]
    }
   ],
   "source": [
    "make"
   ]
  },
  {
   "cell_type": "code",
   "execution_count": 3,
   "metadata": {
    "collapsed": false
   },
   "outputs": [
    {
     "name": "stdout",
     "output_type": "stream",
     "text": [
      "make: 'pi' is up to date.\r\n"
     ]
    }
   ],
   "source": [
    "make pi"
   ]
  },
  {
   "cell_type": "code",
   "execution_count": 1,
   "metadata": {
    "collapsed": false
   },
   "outputs": [
    {
     "name": "stdout",
     "output_type": "stream",
     "text": []
    }
   ],
   "source": [
    "export LD_LIBRARY_PATH=$LD_LIBRARY_PATH:$(pwd)/lib"
   ]
  },
  {
   "cell_type": "code",
   "execution_count": 5,
   "metadata": {
    "collapsed": false
   },
   "outputs": [
    {
     "name": "stdout",
     "output_type": "stream",
     "text": [
      "Valor de Pi calculado: 2.8952380952380956,  Valor de Pi en math.h: 3.1415926535897931\r\n",
      "Diferencia: 0.2463545583516975\r\n"
     ]
    }
   ],
   "source": [
    "./pi 3"
   ]
  },
  {
   "cell_type": "markdown",
   "metadata": {
    "collapsed": true
   },
   "source": [
    "# Tutorial C++"
   ]
  },
  {
   "cell_type": "markdown",
   "metadata": {},
   "source": [
    "Basado en http://gfif.udea.edu.co/web/tiki-index.php?page=Tutorial+Cpp"
   ]
  },
  {
   "cell_type": "markdown",
   "metadata": {},
   "source": [
    "Desde el home del notebook: New -> Text File y renombre a helloworld.cpp "
   ]
  },
  {
   "cell_type": "code",
   "execution_count": 5,
   "metadata": {
    "collapsed": false
   },
   "outputs": [
    {
     "name": "stdout",
     "output_type": "stream",
     "text": [
      "#include <iostream>\r\n",
      "using namespace std;\r\n",
      " \r\n",
      "// This is a tradition\r\n",
      " \r\n",
      "int main() /* you can comment like this to*/\r\n",
      "{\r\n",
      "   cout << \"Hello World\\n\"; // Print 'Hello Word' \r\n",
      "   return 0;\r\n",
      "}\r\n",
      " \r\n",
      "/* The general form is:\r\n",
      " * int main (int argc, char *argv[] , other_parameters ) { body }\r\n",
      " * argc -    Non-negative value representing the number of arguments passed \r\n",
      " *           to the program from the environment in which the program is run.\r\n",
      " * argv -    Pointer to the first element of an array of pointers to \r\n",
      " *           null-terminated multibyte strings that represent the arguments\r\n",
      " *           passed to the program from the execution environment (argv[0] \r\n",
      " *           through argv[argc-1]). The value of argv[argc] is guaranteed to be 0.\r\n",
      " * body -    The body of the main function  \r\n",
      " *   \r\n",
      " */"
     ]
    }
   ],
   "source": [
    "cat helloworld.cpp"
   ]
  },
  {
   "cell_type": "code",
   "execution_count": 3,
   "metadata": {
    "collapsed": false
   },
   "outputs": [
    {
     "name": "stdout",
     "output_type": "stream",
     "text": []
    }
   ],
   "source": [
    "g++ helloworld.cpp -o helloworld"
   ]
  },
  {
   "cell_type": "code",
   "execution_count": 4,
   "metadata": {
    "collapsed": false
   },
   "outputs": [
    {
     "name": "stdout",
     "output_type": "stream",
     "text": [
      "Hello World\r\n"
     ]
    }
   ],
   "source": [
    "./helloworld"
   ]
  },
  {
   "cell_type": "markdown",
   "metadata": {},
   "source": [
    "Continuamos con los operadores"
   ]
  },
  {
   "cell_type": "code",
   "execution_count": 9,
   "metadata": {
    "collapsed": false
   },
   "outputs": [
    {
     "name": "stdout",
     "output_type": "stream",
     "text": [
      "#include <iostream>\r\n",
      "using namespace std;\r\n",
      " \r\n",
      "int main()\r\n",
      "{\r\n",
      "   int a = 21;\r\n",
      "   int b = 10;\r\n",
      "   int c ;\r\n",
      " \r\n",
      "   cout << \"a=\" << a << endl ;\r\n",
      "   cout << \"b=\" << b << endl ;\r\n",
      "   c = a + b;\r\n",
      "   cout << \"a+b=\" << c << endl ;\r\n",
      "   c = a - b;\r\n",
      "   cout << \"a-b=\" << c << endl ;\r\n",
      "   c = a * b;\r\n",
      "   cout << \"a*b=\" << c << endl ;\r\n",
      "   c = a / b;\r\n",
      "   cout << \"a/b=\" << c << endl ;\r\n",
      "   c = a % b;\r\n",
      "   cout << \"a%b=\" << c << endl ;\r\n",
      "   c = a++; \r\n",
      "   cout << \"a++=\" << c << endl ;\r\n",
      "   c = a--; \r\n",
      "   cout << \"a--=\" << c << endl ;\r\n",
      "   return 0;\r\n",
      "}"
     ]
    }
   ],
   "source": [
    "cat operadores.cpp"
   ]
  },
  {
   "cell_type": "code",
   "execution_count": 14,
   "metadata": {
    "collapsed": false
   },
   "outputs": [
    {
     "name": "stdout",
     "output_type": "stream",
     "text": []
    }
   ],
   "source": [
    "g++ operadores.cpp"
   ]
  },
  {
   "cell_type": "code",
   "execution_count": 15,
   "metadata": {
    "collapsed": false
   },
   "outputs": [
    {
     "name": "stdout",
     "output_type": "stream",
     "text": [
      "a=21\r\n",
      "b=10\r\n",
      "a+b=31\r\n",
      "a-b=11\r\n",
      "a*b=210\r\n",
      "a/b=2\r\n",
      "a%b=1\r\n",
      "a++=22\r\n",
      "a--=21\r\n"
     ]
    }
   ],
   "source": [
    "./a.out"
   ]
  },
  {
   "cell_type": "code",
   "execution_count": 12,
   "metadata": {
    "collapsed": false
   },
   "outputs": [
    {
     "name": "stdout",
     "output_type": "stream",
     "text": [
      "#include <iostream>\r\n",
      "#include <stdio.h>\r\n",
      "#include <stdlib.h>\r\n",
      " \r\n",
      "using namespace std;\r\n",
      " \r\n",
      "int main(int argc, char *argv[])\r\n",
      "{\r\n",
      "  bool c;\r\n",
      " \r\n",
      "  cout << \"el valor 0 equivale a FALSE, y 1 a TRUE\" << endl ;\r\n",
      " \r\n",
      "  if(argc != 3)\r\n",
      "    {\r\n",
      "      fprintf(stdout,\"Ingreso %d argumentos, el número de argumentos es 2\\n\",argc);\r\n",
      "      return 1;\r\n",
      "    }//endif\r\n",
      " \r\n",
      "  int a = atoi(argv[1]);\r\n",
      "  int b = atoi(argv[2]);\r\n",
      " \r\n",
      "  cout << \"a=\" << a << endl;\r\n",
      "  cout << \"b=\" << b << endl;\r\n",
      " \r\n",
      " \r\n",
      "  c = (a == b);\r\n",
      "  cout << \"a == b es:\" << c << endl ;\r\n",
      " \r\n",
      "  c= ( a < b );\r\n",
      "  cout << \"a < b es:\"<< c << endl ;\r\n",
      " \r\n",
      "  c= ( a > b );\r\n",
      "  cout << \"a > b es:\"<< c << endl ;\r\n",
      " \r\n",
      "  c= ( a <= b );\r\n",
      "  cout << \"a <= b es:\"<< c << endl ;\r\n",
      " \r\n",
      "  c= ( b >= a );\r\n",
      "  cout << \"b >= a es:\"<< c << endl ;\r\n",
      " \r\n",
      "  return 0;\r\n",
      "}"
     ]
    }
   ],
   "source": [
    "cat operadores_relacionales.cpp"
   ]
  },
  {
   "cell_type": "code",
   "execution_count": 24,
   "metadata": {
    "collapsed": false
   },
   "outputs": [
    {
     "name": "stdout",
     "output_type": "stream",
     "text": []
    }
   ],
   "source": [
    "g++ operadores_relacionales.cpp"
   ]
  },
  {
   "cell_type": "code",
   "execution_count": 26,
   "metadata": {
    "collapsed": false
   },
   "outputs": [
    {
     "name": "stdout",
     "output_type": "stream",
     "text": [
      "el valor 0 equivale a FALSE, y 1 a TRUE\r\n",
      "a=2\r\n",
      "b=2\r\n",
      "a == b es:1\r\n",
      "a < b es:0\r\n",
      "a > b es:0\r\n",
      "a <= b es:1\r\n",
      "b >= a es:1\r\n"
     ]
    }
   ],
   "source": [
    "./a.out 2 2"
   ]
  },
  {
   "cell_type": "code",
   "execution_count": 20,
   "metadata": {
    "collapsed": false
   },
   "outputs": [
    {
     "name": "stdout",
     "output_type": "stream",
     "text": []
    }
   ],
   "source": [
    "g++ operadores_relacionales2.cpp"
   ]
  },
  {
   "cell_type": "code",
   "execution_count": 23,
   "metadata": {
    "collapsed": false
   },
   "outputs": [
    {
     "name": "stdout",
     "output_type": "stream",
     "text": [
      "a=1\r\n",
      "b=0\r\n",
      "a && b es FALSE\r\n",
      "a || b es TRUE\r\n",
      "!(a && b) es TRUE\r\n",
      "!(a || b) es FALSE\r\n"
     ]
    }
   ],
   "source": [
    "./a.out 2 a"
   ]
  },
  {
   "cell_type": "code",
   "execution_count": 28,
   "metadata": {
    "collapsed": false
   },
   "outputs": [
    {
     "name": "stdout",
     "output_type": "stream",
     "text": []
    }
   ],
   "source": [
    "g++ operador_bitwise.cpp"
   ]
  },
  {
   "cell_type": "code",
   "execution_count": 30,
   "metadata": {
    "collapsed": false
   },
   "outputs": [
    {
     "name": "stdout",
     "output_type": "stream",
     "text": [
      "a= 30\r\n",
      "binario: a= 00000011110\r\n",
      "b= 50\r\n",
      "binario b=: 00000110010\r\n",
      "a & b= 18\r\n",
      "binario a & b=: 00000010010\r\n",
      "a | b= 62\r\n",
      "binario a | b=: 00000111110\r\n",
      "a ^ b= 44\r\n",
      "binario a ^ b=: 00000101100\r\n",
      "~a= -31\r\n",
      "binario ~a=: 11111100001\r\n",
      "a << 2= 120\r\n",
      "binario a << 2=: 00001111000\r\n",
      "a >> 2= 7\r\n",
      "binario a >> 2=: 00000000111\r\n"
     ]
    }
   ],
   "source": [
    "./a.out 30 50"
   ]
  },
  {
   "cell_type": "markdown",
   "metadata": {},
   "source": [
    "## Punteros"
   ]
  },
  {
   "cell_type": "markdown",
   "metadata": {},
   "source": [
    "Para declarar un arreglo se puede asignar su tamaño\n",
    "\n",
    "Un puntero es un arreglo de dimensión arbitraria\n",
    "\n",
    "`*b` es equivalente a b[0]  \n",
    "\n",
    "`*(b+1)` es equivalente a b[1]\n",
    "\n",
    "`&var` muestra el hexagecimal asociado a la posición de memoria de\n",
    "\n",
    "Ejemplo:"
   ]
  },
  {
   "cell_type": "markdown",
   "metadata": {},
   "source": [
    "int *\n",
    "a=new int[10];\n",
    "...\n",
    "delete a;"
   ]
  },
  {
   "cell_type": "markdown",
   "metadata": {},
   "source": [
    "Git control"
   ]
  },
  {
   "cell_type": "code",
   "execution_count": 27,
   "metadata": {
    "collapsed": false
   },
   "outputs": [
    {
     "name": "stdout",
     "output_type": "stream",
     "text": []
    }
   ],
   "source": [
    "git add *.cpp"
   ]
  },
  {
   "cell_type": "code",
   "execution_count": null,
   "metadata": {
    "collapsed": true
   },
   "outputs": [],
   "source": []
  }
 ],
 "metadata": {
  "kernelspec": {
   "display_name": "Bash",
   "language": "bash",
   "name": "bash"
  },
  "language_info": {
   "codemirror_mode": "shell",
   "file_extension": ".sh",
   "mimetype": "text/x-sh",
   "name": "bash"
  }
 },
 "nbformat": 4,
 "nbformat_minor": 0
}
